{
  "nbformat": 4,
  "nbformat_minor": 0,
  "metadata": {
    "colab": {
      "provenance": []
    },
    "kernelspec": {
      "name": "python3",
      "display_name": "Python 3"
    },
    "language_info": {
      "name": "python"
    }
  },
  "cells": [
    {
      "cell_type": "markdown",
      "source": [
        "1. Create a class Employee and then do the following"
      ],
      "metadata": {
        "id": "wbjcjQtz-9fI"
      }
    },
    {
      "cell_type": "code",
      "execution_count": 1,
      "metadata": {
        "colab": {
          "base_uri": "https://localhost:8080/"
        },
        "id": "repEw4xOBIP0",
        "outputId": "955aad7e-90ee-4a21-bab9-37a9fb59c1c9"
      },
      "outputs": [
        {
          "output_type": "stream",
          "name": "stdout",
          "text": [
            "Employee 1: \n",
            "Enter name: Mythreya\n",
            "Family Members: 4\n",
            "Employee Salary: 89000\n",
            "Employee Department: CS\n",
            "Employee 2: \n",
            "Enter name: Mythu\n",
            "Family Members: 4\n",
            "Employee Salary: 99000\n",
            "Employee Department: IT\n",
            "Full Time Employee 1: \n",
            "Enter name: Grandhe\n",
            "Family Members: 6\n",
            "Employee Salary: 90000\n",
            "Employee Department: CS\n",
            "\n",
            "Number of employees:  3\n",
            "Avg salary is : 94000.0\n"
          ]
        }
      ],
      "source": [
        "class Employee:\n",
        "    numberOfEmployees = 0\n",
        "\n",
        "    def __init__(self, name, family, salary, department):\n",
        "        self.name = name\n",
        "        self.family = family\n",
        "        self.salary = salary\n",
        "        self.department = department\n",
        "        Employee.numberOfEmployees+=1\n",
        "\n",
        "\n",
        "def averagesalary(employee):\n",
        "    total = sum(e.salary for e in employee)\n",
        "    average = total / len(employee)\n",
        "    return average\n",
        "\n",
        "class FulltimeEmployee(Employee):\n",
        "    def __init__(self, name, family, salary, department):\n",
        "        Employee.__init__(self,name, family, salary, department)\n",
        "\n",
        "print(\"Employee 1: \")\n",
        "employee1 = Employee(input(\"Enter name: \"),input(\"Family Members: \"),int(input(\"Employee Salary: \")),input(\"Employee Department: \"))\n",
        "print(\"Employee 2: \")\n",
        "employee2 = Employee(input(\"Enter name: \"),input(\"Family Members: \"),int(input(\"Employee Salary: \")),input(\"Employee Department: \"))\n",
        "print(\"Full Time Employee 1: \")\n",
        "employee3 = FulltimeEmployee(input(\"Enter name: \"),input(\"Family Members: \"),int(input(\"Employee Salary: \")),input(\"Employee Department: \"))\n",
        "print(\"\")\n",
        "print(\"Number of employees: \",Employee.numberOfEmployees)\n",
        "listofEmployees = [employee1, employee2]\n",
        "avgsalary = averagesalary(listofEmployees)\n",
        "print(\"Avg salary is :\", avgsalary)"
      ]
    },
    {
      "cell_type": "markdown",
      "source": [
        "2. Numpy\n",
        "Using NumPy create random vector of size 20 having only float in the range 1-20.\n",
        "Then reshape the array to 4 by 5\n",
        "Then replace the max in each row by 0 (axis=1)\n"
      ],
      "metadata": {
        "id": "pMelX5uK_FnI"
      }
    },
    {
      "cell_type": "code",
      "source": [
        "import numpy\n",
        "\n",
        "random_vector = numpy.random.uniform(1, 20, 20)\n",
        "print(random_vector)\n",
        "print(\"\")\n",
        "print(\"\")\n",
        "reshaped_array = random_vector.reshape(4, 5)\n",
        "print(\"\")\n",
        "print(\"\")\n",
        "print(reshaped_array)\n",
        "reshaped_array[numpy.arange(4), numpy.argmax(reshaped_array, axis=1)] = 0\n",
        "print(\"\")\n",
        "print(\"\")\n",
        "print(reshaped_array)"
      ],
      "metadata": {
        "colab": {
          "base_uri": "https://localhost:8080/"
        },
        "id": "sB7VsaO4_Rfe",
        "outputId": "8b35f0fb-5069-417d-906e-b7975b2d9fe8"
      },
      "execution_count": 2,
      "outputs": [
        {
          "output_type": "stream",
          "name": "stdout",
          "text": [
            "[ 9.69090139  5.15372359  7.34888505 16.0579306  17.30212624 17.42600726\n",
            " 11.69748367 18.32136265  4.58218645 17.39346205  3.98600997  8.28798299\n",
            " 16.53242394 13.70965634 16.53950528 17.56115827 17.3208168   9.94684761\n",
            "  3.32546365  1.13605918]\n",
            "\n",
            "\n",
            "\n",
            "\n",
            "[[ 9.69090139  5.15372359  7.34888505 16.0579306  17.30212624]\n",
            " [17.42600726 11.69748367 18.32136265  4.58218645 17.39346205]\n",
            " [ 3.98600997  8.28798299 16.53242394 13.70965634 16.53950528]\n",
            " [17.56115827 17.3208168   9.94684761  3.32546365  1.13605918]]\n",
            "\n",
            "\n",
            "[[ 9.69090139  5.15372359  7.34888505 16.0579306   0.        ]\n",
            " [17.42600726 11.69748367  0.          4.58218645 17.39346205]\n",
            " [ 3.98600997  8.28798299 16.53242394 13.70965634  0.        ]\n",
            " [ 0.         17.3208168   9.94684761  3.32546365  1.13605918]]\n"
          ]
        }
      ]
    }
  ]
}